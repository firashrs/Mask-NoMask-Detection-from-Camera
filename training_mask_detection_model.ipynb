{
  "nbformat": 4,
  "nbformat_minor": 0,
  "metadata": {
    "colab": {
      "name": "training_mask_detection_model.ipynb",
      "provenance": []
    },
    "kernelspec": {
      "name": "python3",
      "display_name": "Python 3"
    },
    "language_info": {
      "name": "python"
    }
  },
  "cells": [
    {
      "cell_type": "markdown",
      "metadata": {
        "id": "Fivi1NdqkEo6"
      },
      "source": [
        "#Connecting with Drive"
      ]
    },
    {
      "cell_type": "code",
      "metadata": {
        "colab": {
          "base_uri": "https://localhost:8080/"
        },
        "id": "Bl1QwgZBjyTV",
        "outputId": "dcb5cebc-0229-451f-9a45-6836ce6272be"
      },
      "source": [
        "from google.colab import drive\n",
        "drive.mount('/content/MyDrive')"
      ],
      "execution_count": 1,
      "outputs": [
        {
          "output_type": "stream",
          "name": "stdout",
          "text": [
            "Mounted at /content/MyDrive\n"
          ]
        }
      ]
    },
    {
      "cell_type": "code",
      "metadata": {
        "id": "b0sFm1ygkYNG"
      },
      "source": [
        "project_path = '/content/MyDrive/MyDrive/training_mask_detection/'"
      ],
      "execution_count": 2,
      "outputs": []
    },
    {
      "cell_type": "markdown",
      "metadata": {
        "id": "Cu79pWq2kM_T"
      },
      "source": [
        "#Importing Modules"
      ]
    },
    {
      "cell_type": "code",
      "metadata": {
        "id": "AMoFdEcnkRJ0"
      },
      "source": [
        "import tensorflow as tf\n",
        "from tensorflow.keras.preprocessing.image import ImageDataGenerator\n",
        "from tensorflow.keras.applications import MobileNetV2\n",
        "from tensorflow.keras.layers import AveragePooling2D\n",
        "from tensorflow.keras.layers import Dropout\n",
        "from tensorflow.keras.layers import Flatten\n",
        "from tensorflow.keras.layers import Dense\n",
        "from tensorflow.keras.layers import Input\n",
        "from tensorflow.keras.models import Model\n",
        "from tensorflow.keras.optimizers import Adam\n",
        "from tensorflow.keras.applications.mobilenet_v2 import preprocess_input\n",
        "from tensorflow.keras.preprocessing.image import img_to_array\n",
        "from tensorflow.keras.preprocessing.image import load_img\n",
        "from tensorflow.keras.utils import to_categorical\n",
        "from sklearn.preprocessing import LabelBinarizer\n",
        "from sklearn.model_selection import train_test_split\n",
        "from sklearn.metrics import classification_report\n",
        "from imutils import paths\n",
        "import matplotlib.pyplot as plt\n",
        "import numpy as np\n",
        "import argparse\n",
        "import os\n",
        "import pathlib"
      ],
      "execution_count": 3,
      "outputs": []
    },
    {
      "cell_type": "markdown",
      "metadata": {
        "id": "ypihwoVBlLvf"
      },
      "source": [
        "#Defining Hyperparamters"
      ]
    },
    {
      "cell_type": "code",
      "metadata": {
        "id": "GnHnTBfRlPDf"
      },
      "source": [
        "INIT_LR = 1e-4\n",
        "EPOCHS = 20\n",
        "BS = 32"
      ],
      "execution_count": 8,
      "outputs": []
    },
    {
      "cell_type": "markdown",
      "metadata": {
        "id": "012HfgHBlQQC"
      },
      "source": [
        "#Importing and Preparing the data"
      ]
    },
    {
      "cell_type": "code",
      "metadata": {
        "id": "B1humLellZlt"
      },
      "source": [
        "imagePaths = list(paths.list_images('/content/MyDrive/MyDrive/training_mask_detection/dataset'))\n",
        "print(imagePaths)\n",
        "data = []\n",
        "labels = []\n",
        "\n",
        "for imagePath in imagePaths:\n",
        "    label = imagePath.split(os.path.sep)[-2]\n",
        "    image = load_img(imagePath, target_size=(224, 224))\n",
        "    image = img_to_array(image)\n",
        "    image = preprocess_input(image)\n",
        "    data.append(image)\n",
        "    labels.append(label)\n",
        "    \n",
        "data = np.array(data, dtype=\"float32\")\n",
        "labels = np.array(labels)\n",
        "\n",
        "lb = LabelBinarizer()\n",
        "labels = lb.fit_transform(labels)\n",
        "labels = to_categorical(labels)"
      ],
      "execution_count": null,
      "outputs": []
    },
    {
      "cell_type": "markdown",
      "metadata": {
        "id": "1AwLe6NglljP"
      },
      "source": [
        "#Splitting the data and Augmenting the Features\n",
        "\n"
      ]
    },
    {
      "cell_type": "code",
      "metadata": {
        "id": "Lf8F_1JplsG_"
      },
      "source": [
        "(trainX, testX, trainY, testY) = train_test_split(data,\n",
        "                                                  labels,\n",
        "                                                  test_size=0.20,\n",
        "                                                  stratify=labels,\n",
        "                                                  random_state=42)\n",
        "aug = ImageDataGenerator(rotation_range=20,\n",
        "                         zoom_range=0.15,\n",
        "                         width_shift_range=0.2,\n",
        "                         height_shift_range=0.2,\n",
        "                         shear_range=0.15,\n",
        "                         horizontal_flip=True,\n",
        "                         fill_mode=\"nearest\")"
      ],
      "execution_count": 5,
      "outputs": []
    },
    {
      "cell_type": "markdown",
      "metadata": {
        "id": "3eKxxNxslygB"
      },
      "source": [
        "#Creating the model"
      ]
    },
    {
      "cell_type": "code",
      "metadata": {
        "colab": {
          "base_uri": "https://localhost:8080/"
        },
        "id": "7Rxn5BTLly4_",
        "outputId": "b625f494-3d7e-4d3e-e0b8-ae650003728f"
      },
      "source": [
        "baseModel = MobileNetV2(weights=\"imagenet\",\n",
        "                        include_top=False,\n",
        "                        input_tensor=Input(shape=(224, 224, 3)))\n",
        "\n",
        "headModel = baseModel.output\n",
        "headModel = AveragePooling2D(pool_size=(7, 7))(headModel)\n",
        "headModel = Flatten(name=\"flatten\")(headModel)\n",
        "headModel = Dense(128, activation=\"relu\")(headModel)\n",
        "headModel = Dropout(0.5)(headModel)\n",
        "headModel = Dense(2, activation=\"softmax\")(headModel)\n",
        "\n",
        "model = Model(inputs=baseModel.input, outputs=headModel)"
      ],
      "execution_count": 6,
      "outputs": [
        {
          "output_type": "stream",
          "name": "stdout",
          "text": [
            "WARNING:tensorflow:`input_shape` is undefined or non-square, or `rows` is not in [96, 128, 160, 192, 224]. Weights for input shape (224, 224) will be loaded as the default.\n",
            "Downloading data from https://storage.googleapis.com/tensorflow/keras-applications/mobilenet_v2/mobilenet_v2_weights_tf_dim_ordering_tf_kernels_1.0_224_no_top.h5\n",
            "9412608/9406464 [==============================] - 0s 0us/step\n",
            "9420800/9406464 [==============================] - 0s 0us/step\n"
          ]
        }
      ]
    },
    {
      "cell_type": "markdown",
      "metadata": {
        "id": "VqqUMFUhmHHc"
      },
      "source": [
        "#Training the model"
      ]
    },
    {
      "cell_type": "code",
      "metadata": {
        "colab": {
          "base_uri": "https://localhost:8080/"
        },
        "id": "081VsDhzmHmH",
        "outputId": "16e9b625-5903-4cae-a5c4-d3906c659496"
      },
      "source": [
        "for layer in baseModel.layers:\n",
        "\tlayer.trainable = False\n",
        "    \n",
        "opt = Adam(lr=INIT_LR, decay=INIT_LR / EPOCHS)\n",
        "model.compile(loss=\"binary_crossentropy\",\n",
        "              optimizer=opt,\n",
        "              metrics=[\"accuracy\"])\n",
        "\n",
        "H = model.fit(\n",
        "    aug.flow(trainX, trainY, batch_size=BS),\n",
        "    steps_per_epoch=len(trainX) // BS,\n",
        "    validation_data=(testX, testY),\n",
        "    validation_steps=len(testX) // BS,\n",
        "    epochs=EPOCHS)"
      ],
      "execution_count": 9,
      "outputs": [
        {
          "output_type": "stream",
          "name": "stderr",
          "text": [
            "/usr/local/lib/python3.7/dist-packages/keras/optimizer_v2/optimizer_v2.py:356: UserWarning: The `lr` argument is deprecated, use `learning_rate` instead.\n",
            "  \"The `lr` argument is deprecated, use `learning_rate` instead.\")\n"
          ]
        },
        {
          "output_type": "stream",
          "name": "stdout",
          "text": [
            "Epoch 1/20\n",
            "34/34 [==============================] - 53s 1s/step - loss: 0.5418 - accuracy: 0.7697 - val_loss: 0.2304 - val_accuracy: 0.9891\n",
            "Epoch 2/20\n",
            "34/34 [==============================] - 48s 1s/step - loss: 0.2244 - accuracy: 0.9616 - val_loss: 0.1008 - val_accuracy: 0.9891\n",
            "Epoch 3/20\n",
            "34/34 [==============================] - 48s 1s/step - loss: 0.1212 - accuracy: 0.9785 - val_loss: 0.0600 - val_accuracy: 0.9891\n",
            "Epoch 4/20\n",
            "34/34 [==============================] - 48s 1s/step - loss: 0.0814 - accuracy: 0.9897 - val_loss: 0.0445 - val_accuracy: 0.9891\n",
            "Epoch 5/20\n",
            "34/34 [==============================] - 47s 1s/step - loss: 0.0638 - accuracy: 0.9897 - val_loss: 0.0355 - val_accuracy: 0.9891\n",
            "Epoch 6/20\n",
            "34/34 [==============================] - 48s 1s/step - loss: 0.0604 - accuracy: 0.9878 - val_loss: 0.0344 - val_accuracy: 0.9891\n",
            "Epoch 7/20\n",
            "34/34 [==============================] - 47s 1s/step - loss: 0.0499 - accuracy: 0.9897 - val_loss: 0.0290 - val_accuracy: 0.9891\n",
            "Epoch 8/20\n",
            "34/34 [==============================] - 48s 1s/step - loss: 0.0398 - accuracy: 0.9944 - val_loss: 0.0251 - val_accuracy: 0.9928\n",
            "Epoch 9/20\n",
            "34/34 [==============================] - 48s 1s/step - loss: 0.0310 - accuracy: 0.9944 - val_loss: 0.0246 - val_accuracy: 0.9891\n",
            "Epoch 10/20\n",
            "34/34 [==============================] - 48s 1s/step - loss: 0.0310 - accuracy: 0.9934 - val_loss: 0.0223 - val_accuracy: 0.9928\n",
            "Epoch 11/20\n",
            "34/34 [==============================] - 48s 1s/step - loss: 0.0309 - accuracy: 0.9897 - val_loss: 0.0203 - val_accuracy: 0.9928\n",
            "Epoch 12/20\n",
            "34/34 [==============================] - 48s 1s/step - loss: 0.0254 - accuracy: 0.9916 - val_loss: 0.0201 - val_accuracy: 0.9928\n",
            "Epoch 13/20\n",
            "34/34 [==============================] - 47s 1s/step - loss: 0.0250 - accuracy: 0.9934 - val_loss: 0.0196 - val_accuracy: 0.9928\n",
            "Epoch 14/20\n",
            "34/34 [==============================] - 47s 1s/step - loss: 0.0272 - accuracy: 0.9934 - val_loss: 0.0171 - val_accuracy: 0.9928\n",
            "Epoch 15/20\n",
            "34/34 [==============================] - 47s 1s/step - loss: 0.0224 - accuracy: 0.9944 - val_loss: 0.0191 - val_accuracy: 0.9891\n",
            "Epoch 16/20\n",
            "34/34 [==============================] - 46s 1s/step - loss: 0.0246 - accuracy: 0.9934 - val_loss: 0.0167 - val_accuracy: 0.9928\n",
            "Epoch 17/20\n",
            "34/34 [==============================] - 46s 1s/step - loss: 0.0192 - accuracy: 0.9953 - val_loss: 0.0172 - val_accuracy: 0.9928\n",
            "Epoch 18/20\n",
            "34/34 [==============================] - 47s 1s/step - loss: 0.0129 - accuracy: 0.9981 - val_loss: 0.0182 - val_accuracy: 0.9928\n",
            "Epoch 19/20\n",
            "34/34 [==============================] - 46s 1s/step - loss: 0.0126 - accuracy: 0.9972 - val_loss: 0.0171 - val_accuracy: 0.9928\n",
            "Epoch 20/20\n",
            "34/34 [==============================] - 47s 1s/step - loss: 0.0121 - accuracy: 0.9981 - val_loss: 0.0167 - val_accuracy: 0.9928\n"
          ]
        }
      ]
    },
    {
      "cell_type": "markdown",
      "metadata": {
        "id": "DvtauNyKmR-A"
      },
      "source": [
        "#Showing Figure of the Training Loss and Accuracy"
      ]
    },
    {
      "cell_type": "code",
      "metadata": {
        "colab": {
          "base_uri": "https://localhost:8080/",
          "height": 299
        },
        "id": "Nk1SEIjnmSVK",
        "outputId": "c450b4b9-1c75-4967-ef14-621f30807b3c"
      },
      "source": [
        "N = EPOCHS\n",
        "plt.style.use(\"ggplot\")\n",
        "plt.figure()\n",
        "plt.plot(np.arange(0, N), H.history[\"loss\"], label=\"train_loss\")\n",
        "plt.plot(np.arange(0, N), H.history[\"val_loss\"], label=\"val_loss\")\n",
        "plt.plot(np.arange(0, N), H.history[\"accuracy\"], label=\"train_acc\")\n",
        "plt.plot(np.arange(0, N), H.history[\"val_accuracy\"], label=\"val_acc\")\n",
        "plt.title(\"Training Loss and Accuracy\")\n",
        "plt.xlabel(\"Epoch #\")\n",
        "plt.ylabel(\"Loss/Accuracy\")\n",
        "plt.legend(loc=\"lower left\")\n",
        "\n",
        "plt.show()"
      ],
      "execution_count": 10,
      "outputs": [
        {
          "output_type": "display_data",
          "data": {
            "image/png": "[encoded data removed]",
            "text/plain": [
              "<Figure size 432x288 with 1 Axes>"
            ]
          },
          "metadata": {}
        }
      ]
    },
    {
      "cell_type": "markdown",
      "metadata": {
        "id": "K9Q5vRqdmh3_"
      },
      "source": [
        "#Saving and Exporting The TensorFlow Lite model"
      ]
    },
    {
      "cell_type": "code",
      "metadata": {
        "colab": {
          "base_uri": "https://localhost:8080/"
        },
        "id": "Vj3fzf_CmpS6",
        "outputId": "df9102c0-77e1-4969-a70c-766bbcbb114c"
      },
      "source": [
        "export_dir = '/content/MyDrive/MyDrive/training_mask_detection/saved_model'\n",
        "tf.saved_model.save(model, export_dir)\n",
        "\n",
        "converter = tf.lite.TFLiteConverter.from_saved_model(export_dir)\n",
        "tflite_model = converter.convert()\n",
        "\n",
        "tflite_model_file = pathlib.Path('/content/MyDrive/MyDrive/training_mask_detection/model.tflite')\n",
        "tflite_model_file.write_bytes(tflite_model)"
      ],
      "execution_count": 11,
      "outputs": [
        {
          "output_type": "stream",
          "name": "stdout",
          "text": [
            "INFO:tensorflow:Assets written to: /content/MyDrive/MyDrive/training_mask_detection/saved_model/assets\n"
          ]
        },
        {
          "output_type": "execute_result",
          "data": {
            "text/plain": [
              "9516068"
            ]
          },
          "metadata": {},
          "execution_count": 11
        }
      ]
    }
  ]
}